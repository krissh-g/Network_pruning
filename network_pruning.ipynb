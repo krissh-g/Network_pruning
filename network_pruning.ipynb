{
  "nbformat": 4,
  "nbformat_minor": 0,
  "metadata": {
    "colab": {
      "name": "network_pruning.ipynb",
      "provenance": []
    },
    "kernelspec": {
      "name": "python3",
      "display_name": "Python 3"
    },
    "language_info": {
      "name": "python"
    },
    "widgets": {
      "application/vnd.jupyter.widget-state+json": {
        "20b3c304a29f4c7e85a3293f8b11cfaa": {
          "model_module": "@jupyter-widgets/controls",
          "model_name": "HBoxModel",
          "state": {
            "_view_name": "HBoxView",
            "_dom_classes": [],
            "_model_name": "HBoxModel",
            "_view_module": "@jupyter-widgets/controls",
            "_model_module_version": "1.5.0",
            "_view_count": null,
            "_view_module_version": "1.5.0",
            "box_style": "",
            "layout": "IPY_MODEL_1293f0f658af414bb3c9887571571736",
            "_model_module": "@jupyter-widgets/controls",
            "children": [
              "IPY_MODEL_9cda8b63e56a4c2e806670443d0dcd67",
              "IPY_MODEL_dfd6c73fbe3841bb87e73cd362eef3de"
            ]
          }
        },
        "1293f0f658af414bb3c9887571571736": {
          "model_module": "@jupyter-widgets/base",
          "model_name": "LayoutModel",
          "state": {
            "_view_name": "LayoutView",
            "grid_template_rows": null,
            "right": null,
            "justify_content": null,
            "_view_module": "@jupyter-widgets/base",
            "overflow": null,
            "_model_module_version": "1.2.0",
            "_view_count": null,
            "flex_flow": null,
            "width": null,
            "min_width": null,
            "border": null,
            "align_items": null,
            "bottom": null,
            "_model_module": "@jupyter-widgets/base",
            "top": null,
            "grid_column": null,
            "overflow_y": null,
            "overflow_x": null,
            "grid_auto_flow": null,
            "grid_area": null,
            "grid_template_columns": null,
            "flex": null,
            "_model_name": "LayoutModel",
            "justify_items": null,
            "grid_row": null,
            "max_height": null,
            "align_content": null,
            "visibility": null,
            "align_self": null,
            "height": null,
            "min_height": null,
            "padding": null,
            "grid_auto_rows": null,
            "grid_gap": null,
            "max_width": null,
            "order": null,
            "_view_module_version": "1.2.0",
            "grid_template_areas": null,
            "object_position": null,
            "object_fit": null,
            "grid_auto_columns": null,
            "margin": null,
            "display": null,
            "left": null
          }
        },
        "9cda8b63e56a4c2e806670443d0dcd67": {
          "model_module": "@jupyter-widgets/controls",
          "model_name": "FloatProgressModel",
          "state": {
            "_view_name": "ProgressView",
            "style": "IPY_MODEL_4bb73e9c68aa427c8bb311c50e20f9f1",
            "_dom_classes": [],
            "description": "",
            "_model_name": "FloatProgressModel",
            "bar_style": "success",
            "max": 170498071,
            "_view_module": "@jupyter-widgets/controls",
            "_model_module_version": "1.5.0",
            "value": 170498071,
            "_view_count": null,
            "_view_module_version": "1.5.0",
            "orientation": "horizontal",
            "min": 0,
            "description_tooltip": null,
            "_model_module": "@jupyter-widgets/controls",
            "layout": "IPY_MODEL_9ac70c8e60e74239bdb06aa3eccf1400"
          }
        },
        "dfd6c73fbe3841bb87e73cd362eef3de": {
          "model_module": "@jupyter-widgets/controls",
          "model_name": "HTMLModel",
          "state": {
            "_view_name": "HTMLView",
            "style": "IPY_MODEL_cc00b1d013de4eb99112dbd9901aba70",
            "_dom_classes": [],
            "description": "",
            "_model_name": "HTMLModel",
            "placeholder": "​",
            "_view_module": "@jupyter-widgets/controls",
            "_model_module_version": "1.5.0",
            "value": " 170499072/? [00:21&lt;00:00, 7985026.63it/s]",
            "_view_count": null,
            "_view_module_version": "1.5.0",
            "description_tooltip": null,
            "_model_module": "@jupyter-widgets/controls",
            "layout": "IPY_MODEL_015df52fc56c47dcbfbb3668a29ce80f"
          }
        },
        "4bb73e9c68aa427c8bb311c50e20f9f1": {
          "model_module": "@jupyter-widgets/controls",
          "model_name": "ProgressStyleModel",
          "state": {
            "_view_name": "StyleView",
            "_model_name": "ProgressStyleModel",
            "description_width": "initial",
            "_view_module": "@jupyter-widgets/base",
            "_model_module_version": "1.5.0",
            "_view_count": null,
            "_view_module_version": "1.2.0",
            "bar_color": null,
            "_model_module": "@jupyter-widgets/controls"
          }
        },
        "9ac70c8e60e74239bdb06aa3eccf1400": {
          "model_module": "@jupyter-widgets/base",
          "model_name": "LayoutModel",
          "state": {
            "_view_name": "LayoutView",
            "grid_template_rows": null,
            "right": null,
            "justify_content": null,
            "_view_module": "@jupyter-widgets/base",
            "overflow": null,
            "_model_module_version": "1.2.0",
            "_view_count": null,
            "flex_flow": null,
            "width": null,
            "min_width": null,
            "border": null,
            "align_items": null,
            "bottom": null,
            "_model_module": "@jupyter-widgets/base",
            "top": null,
            "grid_column": null,
            "overflow_y": null,
            "overflow_x": null,
            "grid_auto_flow": null,
            "grid_area": null,
            "grid_template_columns": null,
            "flex": null,
            "_model_name": "LayoutModel",
            "justify_items": null,
            "grid_row": null,
            "max_height": null,
            "align_content": null,
            "visibility": null,
            "align_self": null,
            "height": null,
            "min_height": null,
            "padding": null,
            "grid_auto_rows": null,
            "grid_gap": null,
            "max_width": null,
            "order": null,
            "_view_module_version": "1.2.0",
            "grid_template_areas": null,
            "object_position": null,
            "object_fit": null,
            "grid_auto_columns": null,
            "margin": null,
            "display": null,
            "left": null
          }
        },
        "cc00b1d013de4eb99112dbd9901aba70": {
          "model_module": "@jupyter-widgets/controls",
          "model_name": "DescriptionStyleModel",
          "state": {
            "_view_name": "StyleView",
            "_model_name": "DescriptionStyleModel",
            "description_width": "",
            "_view_module": "@jupyter-widgets/base",
            "_model_module_version": "1.5.0",
            "_view_count": null,
            "_view_module_version": "1.2.0",
            "_model_module": "@jupyter-widgets/controls"
          }
        },
        "015df52fc56c47dcbfbb3668a29ce80f": {
          "model_module": "@jupyter-widgets/base",
          "model_name": "LayoutModel",
          "state": {
            "_view_name": "LayoutView",
            "grid_template_rows": null,
            "right": null,
            "justify_content": null,
            "_view_module": "@jupyter-widgets/base",
            "overflow": null,
            "_model_module_version": "1.2.0",
            "_view_count": null,
            "flex_flow": null,
            "width": null,
            "min_width": null,
            "border": null,
            "align_items": null,
            "bottom": null,
            "_model_module": "@jupyter-widgets/base",
            "top": null,
            "grid_column": null,
            "overflow_y": null,
            "overflow_x": null,
            "grid_auto_flow": null,
            "grid_area": null,
            "grid_template_columns": null,
            "flex": null,
            "_model_name": "LayoutModel",
            "justify_items": null,
            "grid_row": null,
            "max_height": null,
            "align_content": null,
            "visibility": null,
            "align_self": null,
            "height": null,
            "min_height": null,
            "padding": null,
            "grid_auto_rows": null,
            "grid_gap": null,
            "max_width": null,
            "order": null,
            "_view_module_version": "1.2.0",
            "grid_template_areas": null,
            "object_position": null,
            "object_fit": null,
            "grid_auto_columns": null,
            "margin": null,
            "display": null,
            "left": null
          }
        }
      }
    },
    "accelerator": "GPU"
  },
  "cells": [
    {
      "cell_type": "markdown",
      "metadata": {
        "id": "BJJAboy7gUp3"
      },
      "source": [
        "##**Network pruning and finetuning**  \n",
        "In this tutorial global network pruning and finetuning is explored using pruning module in pytorch\n",
        "\n",
        "-- The convolution and linear module wrapper has been adapted from :\n",
        "https://github.com/wanglouis49/pytorch-weights_pruning"
      ]
    },
    {
      "cell_type": "code",
      "metadata": {
        "id": "yL0y4NS2gVdw"
      },
      "source": [
        "import torch\n",
        "import torch.nn as nn\n",
        "import torch.nn.functional as F\n",
        "from torchvision import datasets,transforms\n",
        "from torch.utils.data import DataLoader\n",
        "import numpy as np\n",
        "import matplotlib.pyplot as plt\n",
        "import torch.optim as optim\n",
        "import PIL\n",
        "import torch.nn.utils.prune as prune\n",
        "from torch.autograd import Variable\n",
        "\n",
        "%matplotlib inline"
      ],
      "execution_count": 1,
      "outputs": []
    },
    {
      "cell_type": "markdown",
      "metadata": {
        "id": "R7hIuyumiDEB"
      },
      "source": [
        "In this assignment CIFAR10 dataset has been used"
      ]
    },
    {
      "cell_type": "code",
      "metadata": {
        "colab": {
          "base_uri": "https://localhost:8080/",
          "height": 116,
          "referenced_widgets": [
            "20b3c304a29f4c7e85a3293f8b11cfaa",
            "1293f0f658af414bb3c9887571571736",
            "9cda8b63e56a4c2e806670443d0dcd67",
            "dfd6c73fbe3841bb87e73cd362eef3de",
            "4bb73e9c68aa427c8bb311c50e20f9f1",
            "9ac70c8e60e74239bdb06aa3eccf1400",
            "cc00b1d013de4eb99112dbd9901aba70",
            "015df52fc56c47dcbfbb3668a29ce80f"
          ]
        },
        "id": "TEXZ46aaVoHB",
        "outputId": "aa2f0405-3ffc-44e9-f637-1f5f9d94fb41"
      },
      "source": [
        "trainset = datasets.CIFAR10(root = './Data',train = True,download= True,transform= transforms.ToTensor())\n",
        "testset = datasets.CIFAR10(root = './Data',train = False,download= True,transform= transforms.ToTensor())"
      ],
      "execution_count": 2,
      "outputs": [
        {
          "output_type": "stream",
          "text": [
            "Downloading https://www.cs.toronto.edu/~kriz/cifar-10-python.tar.gz to ./Data/cifar-10-python.tar.gz\n"
          ],
          "name": "stdout"
        },
        {
          "output_type": "display_data",
          "data": {
            "application/vnd.jupyter.widget-view+json": {
              "model_id": "20b3c304a29f4c7e85a3293f8b11cfaa",
              "version_minor": 0,
              "version_major": 2
            },
            "text/plain": [
              "HBox(children=(FloatProgress(value=0.0, max=170498071.0), HTML(value='')))"
            ]
          },
          "metadata": {
            "tags": []
          }
        },
        {
          "output_type": "stream",
          "text": [
            "\n",
            "Extracting ./Data/cifar-10-python.tar.gz to ./Data\n",
            "Files already downloaded and verified\n"
          ],
          "name": "stdout"
        }
      ]
    },
    {
      "cell_type": "code",
      "metadata": {
        "colab": {
          "base_uri": "https://localhost:8080/"
        },
        "id": "Z6Qb6XVJ2znk",
        "outputId": "aa3bb569-8311-4d57-9345-a94bf9c19e65"
      },
      "source": [
        "len(trainset) "
      ],
      "execution_count": 3,
      "outputs": [
        {
          "output_type": "execute_result",
          "data": {
            "text/plain": [
              "50000"
            ]
          },
          "metadata": {
            "tags": []
          },
          "execution_count": 3
        }
      ]
    },
    {
      "cell_type": "code",
      "metadata": {
        "colab": {
          "base_uri": "https://localhost:8080/"
        },
        "id": "skrywCY2rghT",
        "outputId": "326fefa9-fbf4-4ea0-89db-6824b2d3c49b"
      },
      "source": [
        "len(testset)"
      ],
      "execution_count": 4,
      "outputs": [
        {
          "output_type": "execute_result",
          "data": {
            "text/plain": [
              "10000"
            ]
          },
          "metadata": {
            "tags": []
          },
          "execution_count": 4
        }
      ]
    },
    {
      "cell_type": "markdown",
      "metadata": {
        "id": "XxXCQIWYjMjz"
      },
      "source": [
        "Load and preprocess data"
      ]
    },
    {
      "cell_type": "code",
      "metadata": {
        "id": "Mo5nVm4ZWQZn"
      },
      "source": [
        "trainloader = DataLoader(trainset,batch_size=256,shuffle=True,num_workers=2)\n",
        "testloader = DataLoader(testset,batch_size=256,shuffle=False,num_workers=2)"
      ],
      "execution_count": 5,
      "outputs": []
    },
    {
      "cell_type": "code",
      "metadata": {
        "id": "XSEtc7fRWTNL"
      },
      "source": [
        "dataiter = iter(trainloader)\n",
        "data = next(dataiter)"
      ],
      "execution_count": 6,
      "outputs": []
    },
    {
      "cell_type": "code",
      "metadata": {
        "id": "CYPPGOBIWU7U"
      },
      "source": [
        "img = data[0][0].numpy()"
      ],
      "execution_count": 7,
      "outputs": []
    },
    {
      "cell_type": "code",
      "metadata": {
        "colab": {
          "base_uri": "https://localhost:8080/",
          "height": 265
        },
        "id": "DspYlR47Wevz",
        "outputId": "dae290a7-4058-4bc6-efc7-4232c862c55c"
      },
      "source": [
        "plt.imshow(np.transpose(img, (1, 2, 0)))\n",
        "plt.axis('off')"
      ],
      "execution_count": 8,
      "outputs": [
        {
          "output_type": "execute_result",
          "data": {
            "text/plain": [
              "(-0.5, 31.5, 31.5, -0.5)"
            ]
          },
          "metadata": {
            "tags": []
          },
          "execution_count": 8
        },
        {
          "output_type": "display_data",
          "data": {
            "image/png": "[encoded data removed]",
            "text/plain": [
              "<Figure size 432x288 with 1 Axes>"
            ]
          },
          "metadata": {
            "tags": [],
            "needs_background": "light"
          }
        }
      ]
    },
    {
      "cell_type": "code",
      "metadata": {
        "id": "1LOTIBK0XefF"
      },
      "source": [
        "classes = ('plane', 'car', 'bird', 'cat',\n",
        "           'deer', 'dog', 'frog', 'horse', 'ship', 'truck')"
      ],
      "execution_count": 9,
      "outputs": []
    },
    {
      "cell_type": "markdown",
      "metadata": {
        "id": "z8W-gWf_jSTN"
      },
      "source": [
        "Create the base Lenet model:"
      ]
    },
    {
      "cell_type": "code",
      "metadata": {
        "id": "R8g4oPN1xDcd"
      },
      "source": [
        "class model(nn.Module):\n",
        "  def __init__(self):\n",
        "    super(model,self).__init__()\n",
        "    self.conv1 = nn.Conv2d(3,6,3)\n",
        "    self.pool1 = nn.MaxPool2d(2,2)\n",
        "    self.conv2 = nn.Conv2d(6,16,5)\n",
        "    self.pool2 = nn.MaxPool2d(2,2)\n",
        "    self.fc1 = nn.Linear(16*5*5,120)\n",
        "    self.fc2 = nn.Linear(120,84)\n",
        "    self.fc3 = nn.Linear(84,10)\n",
        "\n",
        "  def forward(self,x):\n",
        "    x = self.pool1(F.relu(self.conv1(x)))\n",
        "    x = self.pool2(F.relu(self.conv2(x)))\n",
        "    x = torch.flatten(x,1)\n",
        "    x = F.relu(self.fc1(x))\n",
        "    x = F.relu(self.fc2(x))\n",
        "    x = self.fc3(x)\n",
        "    return x"
      ],
      "execution_count": 10,
      "outputs": []
    },
    {
      "cell_type": "code",
      "metadata": {
        "id": "3YuZRSeTz-FA"
      },
      "source": [
        "net = model()"
      ],
      "execution_count": 11,
      "outputs": []
    },
    {
      "cell_type": "code",
      "metadata": {
        "colab": {
          "base_uri": "https://localhost:8080/"
        },
        "id": "tYR16ZQijQeW",
        "outputId": "97373a00-b95c-4429-e4a5-04271a363dbf"
      },
      "source": [
        "for child in net.children():\n",
        "  print(child)"
      ],
      "execution_count": 12,
      "outputs": [
        {
          "output_type": "stream",
          "text": [
            "Conv2d(3, 6, kernel_size=(3, 3), stride=(1, 1))\n",
            "MaxPool2d(kernel_size=2, stride=2, padding=0, dilation=1, ceil_mode=False)\n",
            "Conv2d(6, 16, kernel_size=(5, 5), stride=(1, 1))\n",
            "MaxPool2d(kernel_size=2, stride=2, padding=0, dilation=1, ceil_mode=False)\n",
            "Linear(in_features=400, out_features=120, bias=True)\n",
            "Linear(in_features=120, out_features=84, bias=True)\n",
            "Linear(in_features=84, out_features=10, bias=True)\n"
          ],
          "name": "stdout"
        }
      ]
    },
    {
      "cell_type": "code",
      "metadata": {
        "colab": {
          "base_uri": "https://localhost:8080/"
        },
        "id": "r6VWFmvEjQ3M",
        "outputId": "08215151-c83f-482f-abb2-b3a9386f1118"
      },
      "source": [
        "# Print the named parameters\n",
        "\n",
        "print('parameter start')\n",
        "for name, parameter in net.named_parameters():\n",
        "    print(name)\n",
        "    print(type(parameter))\n",
        "    print(parameter.is_leaf)\n",
        "print('parameter end')\n"
      ],
      "execution_count": 13,
      "outputs": [
        {
          "output_type": "stream",
          "text": [
            "parameter start\n",
            "conv1.weight\n",
            "<class 'torch.nn.parameter.Parameter'>\n",
            "True\n",
            "conv1.bias\n",
            "<class 'torch.nn.parameter.Parameter'>\n",
            "True\n",
            "conv2.weight\n",
            "<class 'torch.nn.parameter.Parameter'>\n",
            "True\n",
            "conv2.bias\n",
            "<class 'torch.nn.parameter.Parameter'>\n",
            "True\n",
            "fc1.weight\n",
            "<class 'torch.nn.parameter.Parameter'>\n",
            "True\n",
            "fc1.bias\n",
            "<class 'torch.nn.parameter.Parameter'>\n",
            "True\n",
            "fc2.weight\n",
            "<class 'torch.nn.parameter.Parameter'>\n",
            "True\n",
            "fc2.bias\n",
            "<class 'torch.nn.parameter.Parameter'>\n",
            "True\n",
            "fc3.weight\n",
            "<class 'torch.nn.parameter.Parameter'>\n",
            "True\n",
            "fc3.bias\n",
            "<class 'torch.nn.parameter.Parameter'>\n",
            "True\n",
            "parameter end\n"
          ],
          "name": "stdout"
        }
      ]
    },
    {
      "cell_type": "code",
      "metadata": {
        "colab": {
          "base_uri": "https://localhost:8080/"
        },
        "id": "orG5aQSCjRLO",
        "outputId": "53aadbe2-98dc-41a4-f307-a8cf92552327"
      },
      "source": [
        "#print the named modules\n",
        "\n",
        "print('parameter start')\n",
        "for name, module in net.named_modules():\n",
        "    print(name)\n",
        "    print(type(module))\n",
        "print('parameter end')"
      ],
      "execution_count": 14,
      "outputs": [
        {
          "output_type": "stream",
          "text": [
            "parameter start\n",
            "\n",
            "<class '__main__.model'>\n",
            "conv1\n",
            "<class 'torch.nn.modules.conv.Conv2d'>\n",
            "pool1\n",
            "<class 'torch.nn.modules.pooling.MaxPool2d'>\n",
            "conv2\n",
            "<class 'torch.nn.modules.conv.Conv2d'>\n",
            "pool2\n",
            "<class 'torch.nn.modules.pooling.MaxPool2d'>\n",
            "fc1\n",
            "<class 'torch.nn.modules.linear.Linear'>\n",
            "fc2\n",
            "<class 'torch.nn.modules.linear.Linear'>\n",
            "fc3\n",
            "<class 'torch.nn.modules.linear.Linear'>\n",
            "parameter end\n"
          ],
          "name": "stdout"
        }
      ]
    },
    {
      "cell_type": "code",
      "metadata": {
        "id": "KvdW6HoU5H0V"
      },
      "source": [
        "#Handle gpu\n",
        "\n",
        "use_gpu = torch.cuda.is_available()\n",
        "if use_gpu:\n",
        " net = net.cuda()"
      ],
      "execution_count": 15,
      "outputs": []
    },
    {
      "cell_type": "code",
      "metadata": {
        "colab": {
          "base_uri": "https://localhost:8080/"
        },
        "id": "Sa7kN6N005Dx",
        "outputId": "d90d4126-46b5-4c79-a888-eda7418b2306"
      },
      "source": [
        "print(net)"
      ],
      "execution_count": 16,
      "outputs": [
        {
          "output_type": "stream",
          "text": [
            "model(\n",
            "  (conv1): Conv2d(3, 6, kernel_size=(3, 3), stride=(1, 1))\n",
            "  (pool1): MaxPool2d(kernel_size=2, stride=2, padding=0, dilation=1, ceil_mode=False)\n",
            "  (conv2): Conv2d(6, 16, kernel_size=(5, 5), stride=(1, 1))\n",
            "  (pool2): MaxPool2d(kernel_size=2, stride=2, padding=0, dilation=1, ceil_mode=False)\n",
            "  (fc1): Linear(in_features=400, out_features=120, bias=True)\n",
            "  (fc2): Linear(in_features=120, out_features=84, bias=True)\n",
            "  (fc3): Linear(in_features=84, out_features=10, bias=True)\n",
            ")\n"
          ],
          "name": "stdout"
        }
      ]
    },
    {
      "cell_type": "code",
      "metadata": {
        "colab": {
          "base_uri": "https://localhost:8080/"
        },
        "id": "cnVp-9p407eK",
        "outputId": "97c127be-7341-4fdf-b7b8-46deaa24acdf"
      },
      "source": [
        "net.parameters"
      ],
      "execution_count": 17,
      "outputs": [
        {
          "output_type": "execute_result",
          "data": {
            "text/plain": [
              "<bound method Module.parameters of model(\n",
              "  (conv1): Conv2d(3, 6, kernel_size=(3, 3), stride=(1, 1))\n",
              "  (pool1): MaxPool2d(kernel_size=2, stride=2, padding=0, dilation=1, ceil_mode=False)\n",
              "  (conv2): Conv2d(6, 16, kernel_size=(5, 5), stride=(1, 1))\n",
              "  (pool2): MaxPool2d(kernel_size=2, stride=2, padding=0, dilation=1, ceil_mode=False)\n",
              "  (fc1): Linear(in_features=400, out_features=120, bias=True)\n",
              "  (fc2): Linear(in_features=120, out_features=84, bias=True)\n",
              "  (fc3): Linear(in_features=84, out_features=10, bias=True)\n",
              ")>"
            ]
          },
          "metadata": {
            "tags": []
          },
          "execution_count": 17
        }
      ]
    },
    {
      "cell_type": "markdown",
      "metadata": {
        "id": "U2YSacOSkDgX"
      },
      "source": [
        "Train the model with CrossEntropyLoss"
      ]
    },
    {
      "cell_type": "code",
      "metadata": {
        "colab": {
          "base_uri": "https://localhost:8080/"
        },
        "id": "glsyiEVf1DuY",
        "outputId": "d8674913-6c44-46dd-8c83-1bb0b0d46e82"
      },
      "source": [
        "criterion = nn.CrossEntropyLoss()\n",
        "optimizer = optim.Adam(net.parameters())\n",
        "num_epochs = 30\n",
        "train_loss = []\n",
        "train_acc = []\n",
        "\n",
        "for i in range(num_epochs):\n",
        "  running_loss = 0.\n",
        "  running_acc = 0.\n",
        "  for idx,data in enumerate(trainloader):\n",
        "    inputs,labels = data\n",
        "    if use_gpu:\n",
        "      inputs,labels = inputs.cuda(),labels.cuda()\n",
        "    optimizer.zero_grad()\n",
        "\n",
        "    output = net(inputs)\n",
        "    loss = criterion(output,labels)\n",
        "    preds = torch.argmax(output,dim = 1)\n",
        "\n",
        "    running_loss += loss.item()\n",
        "    running_acc += torch.sum(preds == labels)\n",
        "\n",
        "    loss.backward()\n",
        "    optimizer.step()\n",
        "\n",
        "  epoch_loss = running_loss/(i+1)\n",
        "  epoch_acc = running_acc.item()/50000\n",
        "\n",
        "  train_loss.append(epoch_loss)\n",
        "  train_acc.append(epoch_acc)\n",
        "  \n",
        "  print('Epoch {:.0f}/{:.0f} : Training loss: {:.4f} | Training Accuracy: {:.4f}'.format(i+1,num_epochs,epoch_loss,epoch_acc*100))"
      ],
      "execution_count": 18,
      "outputs": [
        {
          "output_type": "stream",
          "text": [
            "/usr/local/lib/python3.7/dist-packages/torch/nn/functional.py:718: UserWarning: Named tensors and all their associated APIs are an experimental feature and subject to change. Please do not use them for anything important until they are released as stable. (Triggered internally at  /pytorch/c10/core/TensorImpl.h:1156.)\n",
            "  return torch.max_pool2d(input, kernel_size, stride, padding, dilation, ceil_mode)\n"
          ],
          "name": "stderr"
        },
        {
          "output_type": "stream",
          "text": [
            "Epoch 1/30 : Training loss: 379.9535 | Training Accuracy: 27.8460\n",
            "Epoch 2/30 : Training loss: 156.6045 | Training Accuracy: 40.8940\n",
            "Epoch 3/30 : Training loss: 97.4413 | Training Accuracy: 45.3560\n",
            "Epoch 4/30 : Training loss: 69.9271 | Training Accuracy: 47.7860\n",
            "Epoch 5/30 : Training loss: 54.4308 | Training Accuracy: 49.8060\n",
            "Epoch 6/30 : Training loss: 43.8539 | Training Accuracy: 51.3600\n",
            "Epoch 7/30 : Training loss: 36.6334 | Training Accuracy: 52.8720\n",
            "Epoch 8/30 : Training loss: 31.3891 | Training Accuracy: 54.0360\n",
            "Epoch 9/30 : Training loss: 27.2110 | Training Accuracy: 55.0620\n",
            "Epoch 10/30 : Training loss: 24.1378 | Training Accuracy: 55.9420\n",
            "Epoch 11/30 : Training loss: 21.5716 | Training Accuracy: 56.5960\n",
            "Epoch 12/30 : Training loss: 19.3432 | Training Accuracy: 57.6820\n",
            "Epoch 13/30 : Training loss: 17.5683 | Training Accuracy: 58.3140\n",
            "Epoch 14/30 : Training loss: 15.9839 | Training Accuracy: 59.2760\n",
            "Epoch 15/30 : Training loss: 14.6981 | Training Accuracy: 60.0240\n",
            "Epoch 16/30 : Training loss: 13.6353 | Training Accuracy: 60.2740\n",
            "Epoch 17/30 : Training loss: 12.6250 | Training Accuracy: 61.1860\n",
            "Epoch 18/30 : Training loss: 11.6854 | Training Accuracy: 61.7120\n",
            "Epoch 19/30 : Training loss: 10.8973 | Training Accuracy: 62.3960\n",
            "Epoch 20/30 : Training loss: 10.2108 | Training Accuracy: 62.9720\n",
            "Epoch 21/30 : Training loss: 9.6748 | Training Accuracy: 63.1740\n",
            "Epoch 22/30 : Training loss: 9.0418 | Training Accuracy: 63.8400\n",
            "Epoch 23/30 : Training loss: 8.6031 | Training Accuracy: 64.3540\n",
            "Epoch 24/30 : Training loss: 8.1405 | Training Accuracy: 64.9060\n",
            "Epoch 25/30 : Training loss: 7.6689 | Training Accuracy: 65.2700\n",
            "Epoch 26/30 : Training loss: 7.2928 | Training Accuracy: 65.8100\n",
            "Epoch 27/30 : Training loss: 6.9363 | Training Accuracy: 66.1920\n",
            "Epoch 28/30 : Training loss: 6.6126 | Training Accuracy: 66.5000\n",
            "Epoch 29/30 : Training loss: 6.3456 | Training Accuracy: 66.7640\n",
            "Epoch 30/30 : Training loss: 6.0261 | Training Accuracy: 67.3680\n"
          ],
          "name": "stdout"
        }
      ]
    },
    {
      "cell_type": "markdown",
      "metadata": {
        "id": "0ycvzMf_lXYj"
      },
      "source": [
        "Find the pretrained network validation accuracy. This validation accuracy will be later used to match the accuracy of finetuned and pruned network"
      ]
    },
    {
      "cell_type": "code",
      "metadata": {
        "colab": {
          "base_uri": "https://localhost:8080/"
        },
        "id": "hV_yGvfDk8pE",
        "outputId": "2e1826ae-98d4-4d15-d641-9887d8d466c5"
      },
      "source": [
        "net.eval()\n",
        "\n",
        "correct_pred = 0\n",
        "with torch.no_grad():\n",
        "  for data in testloader:\n",
        "    inputs,labels = data\n",
        "    if use_gpu:\n",
        "        inputs, labels = inputs.cuda(),labels.cuda()\n",
        "    # Feedforward train data batch through model\n",
        "    output = net(inputs) \n",
        "    # Predicted class is the one with maximum probability\n",
        "    preds = torch.argmax(output,dim=1)\n",
        "    correct_pred += torch.sum(preds==labels)\n",
        "\n",
        "test_accuracy = correct_pred.item()/10000.0\n",
        "print('Testing accuracy = ',test_accuracy*100)"
      ],
      "execution_count": 19,
      "outputs": [
        {
          "output_type": "stream",
          "text": [
            "Testing accuracy =  62.09\n"
          ],
          "name": "stdout"
        }
      ]
    },
    {
      "cell_type": "markdown",
      "metadata": {
        "id": "nQd_V_QskI6T"
      },
      "source": [
        "Save the pretrained model"
      ]
    },
    {
      "cell_type": "code",
      "metadata": {
        "id": "NVADvIvk28Cb"
      },
      "source": [
        "#save the model:\n",
        "PATH = '/content/drive/MyDrive/Lenet_pretrained/state_dict.pt'\n",
        "torch.save(net.state_dict(),PATH)"
      ],
      "execution_count": 20,
      "outputs": []
    },
    {
      "cell_type": "markdown",
      "metadata": {
        "id": "HBp8PIRCkNAS"
      },
      "source": [
        "Create the Linear and convolutional module wrapper.\n",
        "\n",
        "-- these wrappers are built on nn.Linear and nn.Conv2D modules to handle masks during forward propagation\n",
        "\n",
        "--Multiplying the mask is a differentiable operation and the backward pass is handed by automatic differentiation (no explicit coding needed)."
      ]
    },
    {
      "cell_type": "code",
      "metadata": {
        "id": "7Gj1GuybJR1c"
      },
      "source": [
        "class LinearMasked(nn.Linear):\n",
        "    def __init__(self, in_features, out_features, bias=True):\n",
        "        super(LinearMasked, self).__init__(in_features, out_features, bias)\n",
        "        self.mask_flag = False\n",
        "\n",
        "    def set_mask(self, mask):\n",
        "        self.mask = Variable(mask, requires_grad=False, volatile=False)\n",
        "        self.weight.data = self.weight.data * self.mask.data\n",
        "        self.mask_flag = True\n",
        "\n",
        "    def get_mask(self):\n",
        "        print(self.mask_flag)\n",
        "        return self.mask\n",
        "\n",
        "    def forward(self, x):\n",
        "        if self.mask_flag:\n",
        "            weight = self.weight * self.mask.cuda()\n",
        "            return F.linear(x, weight, self.bias)\n",
        "        else:\n",
        "            return F.linear(x, self.weight, self.bias)"
      ],
      "execution_count": 37,
      "outputs": []
    },
    {
      "cell_type": "code",
      "metadata": {
        "id": "KPeOD8miJR32"
      },
      "source": [
        "class Conv2dMasked(nn.Conv2d):\n",
        "    def __init__(\n",
        "        self,\n",
        "        in_channels,\n",
        "        out_channels,\n",
        "        kernel_size,\n",
        "        stride=1,\n",
        "        padding=0,\n",
        "        dilation=1,\n",
        "        groups=1,\n",
        "        bias=True,\n",
        "    ):\n",
        "        super(Conv2dMasked, self).__init__(\n",
        "            in_channels,\n",
        "            out_channels,\n",
        "            kernel_size,\n",
        "            stride,\n",
        "            padding,\n",
        "            dilation,\n",
        "            groups,\n",
        "            bias,\n",
        "        )\n",
        "        self.mask_flag = False\n",
        "\n",
        "    def set_mask(self, mask):\n",
        "        self.mask = Variable(mask, requires_grad=False, volatile=False)\n",
        "        self.weight.data = self.weight.data * self.mask.data\n",
        "        self.mask_flag = True\n",
        "\n",
        "    def get_mask(self):\n",
        "        print(self.mask_flag)\n",
        "        return self.mask\n",
        "\n",
        "    def forward(self, x):\n",
        "        if self.mask_flag:\n",
        "            weight = self.weight * self.mask.cuda()\n",
        "            return F.conv2d(\n",
        "                x,\n",
        "                weight,\n",
        "                self.bias,\n",
        "                self.stride,\n",
        "                self.padding,\n",
        "                self.dilation,\n",
        "                self.groups,\n",
        "            )\n",
        "        else:\n",
        "            return F.conv2d(\n",
        "                x,\n",
        "                self.weight,\n",
        "                self.bias,\n",
        "                self.stride,\n",
        "                self.padding,\n",
        "                self.dilation,\n",
        "                self.groups,\n",
        "            )"
      ],
      "execution_count": 38,
      "outputs": []
    },
    {
      "cell_type": "code",
      "metadata": {
        "id": "wnmRRinyIxhU"
      },
      "source": [
        "##Updated Lenetmodel\n",
        "\n",
        "class Lenetmodel(nn.Module):\n",
        "  def __init__(self):\n",
        "    super(Lenetmodel,self).__init__()\n",
        "    self.conv1 = Conv2dMasked(3,6,kernel_size=3)\n",
        "    self.pool1 = nn.MaxPool2d(2,2)\n",
        "    self.conv2 = Conv2dMasked(6,16,kernel_size=5)\n",
        "    self.pool2 = nn.MaxPool2d(2,2)\n",
        "    self.fc1 = LinearMasked(16*5*5,120)\n",
        "    self.fc2 = LinearMasked(120,84)\n",
        "    self.fc3 = LinearMasked(84,10)\n",
        "\n",
        "  def forward(self,x):\n",
        "    x = self.pool1(F.relu(self.conv1(x)))\n",
        "    x = self.pool2(F.relu(self.conv2(x)))\n",
        "    x = torch.flatten(x,1)\n",
        "    x = F.relu(self.fc1(x))\n",
        "    x = F.relu(self.fc2(x))\n",
        "    x = self.fc3(x)\n",
        "    return x"
      ],
      "execution_count": 39,
      "outputs": []
    },
    {
      "cell_type": "markdown",
      "metadata": {
        "id": "h_qH2haYmClm"
      },
      "source": [
        "Load back the pretrained model to be pruned and finetuned"
      ]
    },
    {
      "cell_type": "code",
      "metadata": {
        "id": "mWwY9XXBL1uw"
      },
      "source": [
        "new_net = Lenetmodel()"
      ],
      "execution_count": 54,
      "outputs": []
    },
    {
      "cell_type": "code",
      "metadata": {
        "colab": {
          "base_uri": "https://localhost:8080/"
        },
        "id": "UuD0-0C-L13b",
        "outputId": "6e408e87-3f77-4230-c415-596feeb306f2"
      },
      "source": [
        "new_net.load_state_dict(torch.load(PATH))"
      ],
      "execution_count": 55,
      "outputs": [
        {
          "output_type": "execute_result",
          "data": {
            "text/plain": [
              "<All keys matched successfully>"
            ]
          },
          "metadata": {
            "tags": []
          },
          "execution_count": 55
        }
      ]
    },
    {
      "cell_type": "code",
      "metadata": {
        "colab": {
          "base_uri": "https://localhost:8080/"
        },
        "id": "TWq5C7mtL1_Z",
        "outputId": "54b95b26-c0d8-4e95-d7d9-0ae16ce28e7e"
      },
      "source": [
        "new_net"
      ],
      "execution_count": 56,
      "outputs": [
        {
          "output_type": "execute_result",
          "data": {
            "text/plain": [
              "Lenetmodel(\n",
              "  (conv1): Conv2dMasked(3, 6, kernel_size=(3, 3), stride=(1, 1))\n",
              "  (pool1): MaxPool2d(kernel_size=2, stride=2, padding=0, dilation=1, ceil_mode=False)\n",
              "  (conv2): Conv2dMasked(6, 16, kernel_size=(5, 5), stride=(1, 1))\n",
              "  (pool2): MaxPool2d(kernel_size=2, stride=2, padding=0, dilation=1, ceil_mode=False)\n",
              "  (fc1): LinearMasked(in_features=400, out_features=120, bias=True)\n",
              "  (fc2): LinearMasked(in_features=120, out_features=84, bias=True)\n",
              "  (fc3): LinearMasked(in_features=84, out_features=10, bias=True)\n",
              ")"
            ]
          },
          "metadata": {
            "tags": []
          },
          "execution_count": 56
        }
      ]
    },
    {
      "cell_type": "code",
      "metadata": {
        "id": "tPyJy-vtNVzl"
      },
      "source": [
        "# define parameters to prune\n",
        "\n",
        "parameters_to_prune = (\n",
        "    (new_net.conv1, 'weight'),\n",
        "    (new_net.conv2, 'weight'),\n",
        "    (new_net.fc1, 'weight'),\n",
        "    (new_net.fc2, 'weight'),\n",
        "    (new_net.fc3, 'weight'),\n",
        ")"
      ],
      "execution_count": 57,
      "outputs": []
    },
    {
      "cell_type": "markdown",
      "metadata": {
        "id": "GciZfH2gmQCA"
      },
      "source": [
        "prune the network using prune module. Here we have used 60% pruning"
      ]
    },
    {
      "cell_type": "code",
      "metadata": {
        "id": "ZK0fWIKNNWCW"
      },
      "source": [
        "prune.global_unstructured(parameters_to_prune,pruning_method=prune.L1Unstructured,amount=0.6)"
      ],
      "execution_count": 58,
      "outputs": []
    },
    {
      "cell_type": "code",
      "metadata": {
        "id": "Gv6DkeVOWk-v"
      },
      "source": [
        "for param,name in parameters_to_prune:\n",
        "  mask = param.weight_mask\n",
        "  param.set_mask(mask)"
      ],
      "execution_count": 59,
      "outputs": []
    },
    {
      "cell_type": "markdown",
      "metadata": {
        "id": "h8dESWPjmZ_S"
      },
      "source": [
        "check the original weights and the weight masks"
      ]
    },
    {
      "cell_type": "code",
      "metadata": {
        "colab": {
          "base_uri": "https://localhost:8080/"
        },
        "id": "p1UOTWjr_6Ic",
        "outputId": "ecf74db6-d1ac-4d40-976c-69b978c68957"
      },
      "source": [
        "new_net.conv1.weight_orig"
      ],
      "execution_count": 60,
      "outputs": [
        {
          "output_type": "execute_result",
          "data": {
            "text/plain": [
              "Parameter containing:\n",
              "tensor([[[[ 0.0880, -0.0083,  0.3434],\n",
              "          [ 0.0369, -0.1505,  0.0183],\n",
              "          [-0.1472, -0.1712, -0.3368]],\n",
              "\n",
              "         [[ 0.2201,  0.0955,  0.0852],\n",
              "          [ 0.0756, -0.1340,  0.1160],\n",
              "          [-0.1664,  0.1794, -0.0630]],\n",
              "\n",
              "         [[-0.1087, -0.0063,  0.0418],\n",
              "          [-0.0057,  0.0888, -0.1678],\n",
              "          [ 0.1416, -0.0938, -0.1684]]],\n",
              "\n",
              "\n",
              "        [[[-0.0488, -0.2384, -0.2116],\n",
              "          [ 0.0089, -0.0187, -0.0315],\n",
              "          [ 0.0969, -0.0260,  0.0165]],\n",
              "\n",
              "         [[-0.0243, -0.0329, -0.0947],\n",
              "          [-0.0317,  0.1372, -0.1602],\n",
              "          [ 0.1535,  0.0545, -0.1972]],\n",
              "\n",
              "         [[ 0.2337,  0.0006, -0.2348],\n",
              "          [ 0.2871,  0.2595, -0.1768],\n",
              "          [ 0.2017,  0.1390,  0.1679]]],\n",
              "\n",
              "\n",
              "        [[[-0.0699,  0.1371,  0.1545],\n",
              "          [ 0.1317,  0.0923, -0.0092],\n",
              "          [ 0.2731, -0.0688, -0.1003]],\n",
              "\n",
              "         [[ 0.0412,  0.2201,  0.1068],\n",
              "          [ 0.1569, -0.0133, -0.1563],\n",
              "          [-0.1501,  0.0474,  0.0055]],\n",
              "\n",
              "         [[ 0.0371, -0.0409,  0.2893],\n",
              "          [ 0.0489,  0.1255,  0.0078],\n",
              "          [ 0.0809,  0.0474, -0.1247]]],\n",
              "\n",
              "\n",
              "        [[[ 0.1393, -0.0805,  0.0316],\n",
              "          [-0.1902, -0.1137, -0.0803],\n",
              "          [-0.1142,  0.0932,  0.1270]],\n",
              "\n",
              "         [[-0.1646,  0.1067, -0.0167],\n",
              "          [ 0.0083, -0.0389, -0.0337],\n",
              "          [ 0.0012,  0.0965, -0.1891]],\n",
              "\n",
              "         [[ 0.0199, -0.0159,  0.0588],\n",
              "          [ 0.0158, -0.1197,  0.0399],\n",
              "          [ 0.0172, -0.1785, -0.0926]]],\n",
              "\n",
              "\n",
              "        [[[ 0.0816, -0.2407,  0.2407],\n",
              "          [-0.2160, -0.0361,  0.1418],\n",
              "          [ 0.0442, -0.0594,  0.2370]],\n",
              "\n",
              "         [[-0.1439, -0.2410,  0.0950],\n",
              "          [-0.0707, -0.1855,  0.0077],\n",
              "          [-0.0332,  0.0169,  0.2687]],\n",
              "\n",
              "         [[ 0.0200, -0.2170,  0.1306],\n",
              "          [-0.2020,  0.0137,  0.3216],\n",
              "          [-0.1681,  0.1658, -0.0227]]],\n",
              "\n",
              "\n",
              "        [[[ 0.0354, -0.1131,  0.1470],\n",
              "          [-0.1197, -0.2327, -0.0769],\n",
              "          [ 0.2276,  0.1943, -0.0345]],\n",
              "\n",
              "         [[ 0.0106,  0.0913,  0.0041],\n",
              "          [-0.1098,  0.0490, -0.1431],\n",
              "          [-0.1135, -0.1260, -0.1178]],\n",
              "\n",
              "         [[ 0.1178,  0.1079,  0.2151],\n",
              "          [ 0.1150,  0.0606, -0.1689],\n",
              "          [-0.1505, -0.0679,  0.1851]]]], requires_grad=True)"
            ]
          },
          "metadata": {
            "tags": []
          },
          "execution_count": 60
        }
      ]
    },
    {
      "cell_type": "code",
      "metadata": {
        "colab": {
          "base_uri": "https://localhost:8080/"
        },
        "id": "ulGBo_yvYU9r",
        "outputId": "7b5a0b0e-0f66-42b4-ac02-2c07129200c3"
      },
      "source": [
        "for name,param in new_net.named_parameters():\n",
        "  print(name)"
      ],
      "execution_count": 61,
      "outputs": [
        {
          "output_type": "stream",
          "text": [
            "conv1.bias\n",
            "conv1.weight_orig\n",
            "conv2.bias\n",
            "conv2.weight_orig\n",
            "fc1.bias\n",
            "fc1.weight_orig\n",
            "fc2.bias\n",
            "fc2.weight_orig\n",
            "fc3.bias\n",
            "fc3.weight_orig\n"
          ],
          "name": "stdout"
        }
      ]
    },
    {
      "cell_type": "markdown",
      "metadata": {
        "id": "kccK8bjp7R3u"
      },
      "source": [
        "set the pruned weights to zero"
      ]
    },
    {
      "cell_type": "code",
      "metadata": {
        "id": "gKu_lvJX7Gzu"
      },
      "source": [
        "for module,name in parameters_to_prune:\n",
        "  prune.remove(module,name)"
      ],
      "execution_count": 62,
      "outputs": []
    },
    {
      "cell_type": "code",
      "metadata": {
        "colab": {
          "base_uri": "https://localhost:8080/"
        },
        "id": "RKPeIabu8Q3o",
        "outputId": "3a55c4b9-9f53-41ac-dba0-4380b6e6862e"
      },
      "source": [
        "new_net.conv1.weight"
      ],
      "execution_count": 63,
      "outputs": [
        {
          "output_type": "execute_result",
          "data": {
            "text/plain": [
              "Parameter containing:\n",
              "tensor([[[[ 0.0880, -0.0000,  0.3434],\n",
              "          [ 0.0000, -0.1505,  0.0000],\n",
              "          [-0.1472, -0.1712, -0.3368]],\n",
              "\n",
              "         [[ 0.2201,  0.0955,  0.0852],\n",
              "          [ 0.0756, -0.1340,  0.1160],\n",
              "          [-0.1664,  0.1794, -0.0000]],\n",
              "\n",
              "         [[-0.1087, -0.0000,  0.0000],\n",
              "          [-0.0000,  0.0888, -0.1678],\n",
              "          [ 0.1416, -0.0938, -0.1684]]],\n",
              "\n",
              "\n",
              "        [[[-0.0000, -0.2384, -0.2116],\n",
              "          [ 0.0000, -0.0000, -0.0000],\n",
              "          [ 0.0969, -0.0000,  0.0000]],\n",
              "\n",
              "         [[-0.0000, -0.0000, -0.0947],\n",
              "          [-0.0000,  0.1372, -0.1602],\n",
              "          [ 0.1535,  0.0000, -0.1972]],\n",
              "\n",
              "         [[ 0.2337,  0.0000, -0.2348],\n",
              "          [ 0.2871,  0.2595, -0.1768],\n",
              "          [ 0.2017,  0.1390,  0.1679]]],\n",
              "\n",
              "\n",
              "        [[[-0.0699,  0.1371,  0.1545],\n",
              "          [ 0.1317,  0.0923, -0.0000],\n",
              "          [ 0.2731, -0.0688, -0.1003]],\n",
              "\n",
              "         [[ 0.0000,  0.2201,  0.1068],\n",
              "          [ 0.1569, -0.0000, -0.1563],\n",
              "          [-0.1501,  0.0000,  0.0000]],\n",
              "\n",
              "         [[ 0.0000, -0.0000,  0.2893],\n",
              "          [ 0.0000,  0.1255,  0.0000],\n",
              "          [ 0.0809,  0.0000, -0.1247]]],\n",
              "\n",
              "\n",
              "        [[[ 0.1393, -0.0805,  0.0000],\n",
              "          [-0.1902, -0.1137, -0.0803],\n",
              "          [-0.1142,  0.0932,  0.1270]],\n",
              "\n",
              "         [[-0.1646,  0.1067, -0.0000],\n",
              "          [ 0.0000, -0.0000, -0.0000],\n",
              "          [ 0.0000,  0.0965, -0.1891]],\n",
              "\n",
              "         [[ 0.0000, -0.0000,  0.0000],\n",
              "          [ 0.0000, -0.1197,  0.0000],\n",
              "          [ 0.0000, -0.1785, -0.0926]]],\n",
              "\n",
              "\n",
              "        [[[ 0.0816, -0.2407,  0.2407],\n",
              "          [-0.2160, -0.0000,  0.1418],\n",
              "          [ 0.0000, -0.0000,  0.2370]],\n",
              "\n",
              "         [[-0.1439, -0.2410,  0.0950],\n",
              "          [-0.0707, -0.1855,  0.0000],\n",
              "          [-0.0000,  0.0000,  0.2687]],\n",
              "\n",
              "         [[ 0.0000, -0.2170,  0.1306],\n",
              "          [-0.2020,  0.0000,  0.3216],\n",
              "          [-0.1681,  0.1658, -0.0000]]],\n",
              "\n",
              "\n",
              "        [[[ 0.0000, -0.1131,  0.1470],\n",
              "          [-0.1197, -0.2327, -0.0769],\n",
              "          [ 0.2276,  0.1943, -0.0000]],\n",
              "\n",
              "         [[ 0.0000,  0.0913,  0.0000],\n",
              "          [-0.1098,  0.0000, -0.1431],\n",
              "          [-0.1135, -0.1260, -0.1178]],\n",
              "\n",
              "         [[ 0.1178,  0.1079,  0.2151],\n",
              "          [ 0.1150,  0.0000, -0.1689],\n",
              "          [-0.1505, -0.0679,  0.1851]]]], requires_grad=True)"
            ]
          },
          "metadata": {
            "tags": []
          },
          "execution_count": 63
        }
      ]
    },
    {
      "cell_type": "code",
      "metadata": {
        "colab": {
          "base_uri": "https://localhost:8080/"
        },
        "id": "pbT5zORH7M4p",
        "outputId": "a7a1dee7-3e66-425b-c02e-9a59bb75871e"
      },
      "source": [
        "for name,param in new_net.named_parameters():\n",
        "  print(name)"
      ],
      "execution_count": 64,
      "outputs": [
        {
          "output_type": "stream",
          "text": [
            "conv1.bias\n",
            "conv1.weight\n",
            "conv2.bias\n",
            "conv2.weight\n",
            "fc1.bias\n",
            "fc1.weight\n",
            "fc2.bias\n",
            "fc2.weight\n",
            "fc3.bias\n",
            "fc3.weight\n"
          ],
          "name": "stdout"
        }
      ]
    },
    {
      "cell_type": "markdown",
      "metadata": {
        "id": "ZFPy7ypEm2nc"
      },
      "source": [
        "Check accuracy of the pruned model"
      ]
    },
    {
      "cell_type": "code",
      "metadata": {
        "colab": {
          "base_uri": "https://localhost:8080/"
        },
        "id": "gyl0c3GxmyLr",
        "outputId": "4295192b-0e68-465d-f2a3-5e7437c2070e"
      },
      "source": [
        "use_gpu = torch.cuda.is_available()\n",
        "if use_gpu:\n",
        "  new_net = new_net.cuda()\n",
        "\n",
        "new_net.eval()\n",
        "\n",
        "correct_pred = 0\n",
        "with torch.no_grad():\n",
        "  for data in testloader:\n",
        "    inputs,labels = data\n",
        "    if use_gpu:\n",
        "        inputs, labels = inputs.cuda(),labels.cuda()\n",
        "    # Feedforward train data batch through model\n",
        "    output = new_net(inputs) \n",
        "    # Predicted class is the one with maximum probability\n",
        "    preds = torch.argmax(output,dim=1)\n",
        "    correct_pred += torch.sum(preds==labels)\n",
        "\n",
        "test_accuracy = correct_pred.item()/10000.0\n",
        "print('Testing accuracy = ',test_accuracy*100)"
      ],
      "execution_count": 66,
      "outputs": [
        {
          "output_type": "stream",
          "text": [
            "Testing accuracy =  41.55\n"
          ],
          "name": "stdout"
        }
      ]
    },
    {
      "cell_type": "markdown",
      "metadata": {
        "id": "tQzTyaDLxoIv"
      },
      "source": [
        "Finetune the pruned model "
      ]
    },
    {
      "cell_type": "code",
      "metadata": {
        "colab": {
          "base_uri": "https://localhost:8080/"
        },
        "id": "aGbLMdWpYv82",
        "outputId": "07a384bb-50fe-492d-f9d7-4c56cc6181d6"
      },
      "source": [
        "criterion = nn.CrossEntropyLoss()\n",
        "optimizer = optim.Adam(new_net.parameters())\n",
        "num_epochs = 20\n",
        "train_loss = []\n",
        "train_acc = []\n",
        "\n",
        "new_net.train()\n",
        "for i in range(num_epochs):\n",
        "  running_loss = 0.\n",
        "  running_acc = 0.\n",
        "  for idx,data in enumerate(trainloader):\n",
        "    inputs,labels = data\n",
        "    if use_gpu:\n",
        "      inputs,labels = inputs.cuda(),labels.cuda()\n",
        "    optimizer.zero_grad()\n",
        "\n",
        "    output = new_net(inputs)\n",
        "    loss = criterion(output,labels)\n",
        "    preds = torch.argmax(output,dim = 1)\n",
        "\n",
        "    running_loss += loss.item()\n",
        "    running_acc += torch.sum(preds == labels)\n",
        "\n",
        "    loss.backward()\n",
        "    optimizer.step()\n",
        "\n",
        "  epoch_loss = running_loss/(i+1)\n",
        "  epoch_acc = running_acc.item()/50000\n",
        "\n",
        "  train_loss.append(epoch_loss)\n",
        "  train_acc.append(epoch_acc)\n",
        "  \n",
        "  print('Epoch {:.0f}/{:.0f} : Training loss: {:.4f} | Training Accuracy: {:.4f}'.format(i+1,num_epochs,epoch_loss,epoch_acc*100))"
      ],
      "execution_count": 67,
      "outputs": [
        {
          "output_type": "stream",
          "text": [
            "Epoch 1/20 : Training loss: 185.9354 | Training Accuracy: 66.4600\n",
            "Epoch 2/20 : Training loss: 89.0182 | Training Accuracy: 67.9200\n",
            "Epoch 3/20 : Training loss: 58.7797 | Training Accuracy: 68.2160\n",
            "Epoch 4/20 : Training loss: 43.6704 | Training Accuracy: 68.5100\n",
            "Epoch 5/20 : Training loss: 34.4369 | Training Accuracy: 68.9420\n",
            "Epoch 6/20 : Training loss: 28.5136 | Training Accuracy: 69.2000\n",
            "Epoch 7/20 : Training loss: 24.3507 | Training Accuracy: 69.1840\n",
            "Epoch 8/20 : Training loss: 21.0297 | Training Accuracy: 69.4880\n",
            "Epoch 9/20 : Training loss: 18.6446 | Training Accuracy: 69.5720\n",
            "Epoch 10/20 : Training loss: 16.6749 | Training Accuracy: 69.8780\n",
            "Epoch 11/20 : Training loss: 15.0318 | Training Accuracy: 70.1560\n",
            "Epoch 12/20 : Training loss: 13.7437 | Training Accuracy: 70.2360\n",
            "Epoch 13/20 : Training loss: 12.5588 | Training Accuracy: 70.5560\n",
            "Epoch 14/20 : Training loss: 11.6366 | Training Accuracy: 70.7700\n",
            "Epoch 15/20 : Training loss: 10.7262 | Training Accuracy: 70.8900\n",
            "Epoch 16/20 : Training loss: 10.0507 | Training Accuracy: 70.9120\n",
            "Epoch 17/20 : Training loss: 9.3679 | Training Accuracy: 71.2900\n",
            "Epoch 18/20 : Training loss: 8.7806 | Training Accuracy: 71.3620\n",
            "Epoch 19/20 : Training loss: 8.2663 | Training Accuracy: 71.5560\n",
            "Epoch 20/20 : Training loss: 7.8225 | Training Accuracy: 71.8060\n"
          ],
          "name": "stdout"
        }
      ]
    },
    {
      "cell_type": "markdown",
      "metadata": {
        "id": "eAnWWs6-x52z"
      },
      "source": [
        "Check the masked weights' value - they should not change"
      ]
    },
    {
      "cell_type": "code",
      "metadata": {
        "colab": {
          "base_uri": "https://localhost:8080/"
        },
        "id": "j_-VJg8GcgIZ",
        "outputId": "72a870dd-8d73-4fd6-9ada-9869669258ef"
      },
      "source": [
        "new_net.conv1.weight"
      ],
      "execution_count": 68,
      "outputs": [
        {
          "output_type": "execute_result",
          "data": {
            "text/plain": [
              "Parameter containing:\n",
              "tensor([[[[ 0.1046, -0.0000,  0.3919],\n",
              "          [ 0.0000, -0.1533,  0.0000],\n",
              "          [-0.1415, -0.1856, -0.4004]],\n",
              "\n",
              "         [[ 0.2189,  0.0941,  0.1211],\n",
              "          [ 0.0927, -0.1468,  0.1252],\n",
              "          [-0.1534,  0.1764, -0.0000]],\n",
              "\n",
              "         [[-0.1140, -0.0000,  0.0000],\n",
              "          [-0.0000,  0.0739, -0.1497],\n",
              "          [ 0.1504, -0.0952, -0.2026]]],\n",
              "\n",
              "\n",
              "        [[[-0.0000, -0.3074, -0.2558],\n",
              "          [ 0.0000, -0.0000, -0.0000],\n",
              "          [ 0.0370, -0.0000,  0.0000]],\n",
              "\n",
              "         [[-0.0000, -0.0000, -0.1230],\n",
              "          [-0.0000,  0.1603, -0.1852],\n",
              "          [ 0.1906,  0.0000, -0.1937]],\n",
              "\n",
              "         [[ 0.2385,  0.0000, -0.2514],\n",
              "          [ 0.3108,  0.2844, -0.1960],\n",
              "          [ 0.2230,  0.1994,  0.1715]]],\n",
              "\n",
              "\n",
              "        [[[-0.0447,  0.1185,  0.1441],\n",
              "          [ 0.1620,  0.1045, -0.0000],\n",
              "          [ 0.3168, -0.0264, -0.1056]],\n",
              "\n",
              "         [[ 0.0000,  0.2556,  0.1380],\n",
              "          [ 0.1955, -0.0000, -0.1761],\n",
              "          [-0.1343,  0.0000,  0.0000]],\n",
              "\n",
              "         [[ 0.0000, -0.0000,  0.3191],\n",
              "          [ 0.0000,  0.1699,  0.0000],\n",
              "          [ 0.1624,  0.0000, -0.1069]]],\n",
              "\n",
              "\n",
              "        [[[ 0.1393, -0.0805,  0.0000],\n",
              "          [-0.1902, -0.1137, -0.0803],\n",
              "          [-0.1142,  0.0932,  0.1270]],\n",
              "\n",
              "         [[-0.1646,  0.1067, -0.0000],\n",
              "          [ 0.0000, -0.0000, -0.0000],\n",
              "          [ 0.0000,  0.0965, -0.1891]],\n",
              "\n",
              "         [[ 0.0000, -0.0000,  0.0000],\n",
              "          [ 0.0000, -0.1197,  0.0000],\n",
              "          [ 0.0000, -0.1785, -0.0926]]],\n",
              "\n",
              "\n",
              "        [[[ 0.1077, -0.2847,  0.2404],\n",
              "          [-0.2433, -0.0000,  0.1651],\n",
              "          [ 0.0000, -0.0000,  0.2198]],\n",
              "\n",
              "         [[-0.1075, -0.2784,  0.1162],\n",
              "          [-0.0841, -0.2020,  0.0000],\n",
              "          [-0.0000,  0.0000,  0.2733]],\n",
              "\n",
              "         [[ 0.0000, -0.2497,  0.1454],\n",
              "          [-0.2052,  0.0000,  0.3619],\n",
              "          [-0.1795,  0.1579, -0.0000]]],\n",
              "\n",
              "\n",
              "        [[[ 0.0000, -0.1033,  0.1343],\n",
              "          [-0.1144, -0.2260, -0.0933],\n",
              "          [ 0.2393,  0.2122, -0.0000]],\n",
              "\n",
              "         [[ 0.0000,  0.1238,  0.0000],\n",
              "          [-0.0997,  0.0000, -0.1525],\n",
              "          [-0.1271, -0.1347, -0.1203]],\n",
              "\n",
              "         [[ 0.1441,  0.1545,  0.2332],\n",
              "          [ 0.1397,  0.0000, -0.1669],\n",
              "          [-0.1604, -0.0717,  0.1883]]]], device='cuda:0', requires_grad=True)"
            ]
          },
          "metadata": {
            "tags": []
          },
          "execution_count": 68
        }
      ]
    },
    {
      "cell_type": "code",
      "metadata": {
        "colab": {
          "base_uri": "https://localhost:8080/"
        },
        "id": "bUuga6lw9q3W",
        "outputId": "5cb34b6d-4184-427b-d321-a97b043872ff"
      },
      "source": [
        "for name,param in new_net.named_parameters():\n",
        "  print(name) "
      ],
      "execution_count": 69,
      "outputs": [
        {
          "output_type": "stream",
          "text": [
            "conv1.bias\n",
            "conv1.weight\n",
            "conv2.bias\n",
            "conv2.weight\n",
            "fc1.bias\n",
            "fc1.weight\n",
            "fc2.bias\n",
            "fc2.weight\n",
            "fc3.bias\n",
            "fc3.weight\n"
          ],
          "name": "stdout"
        }
      ]
    },
    {
      "cell_type": "markdown",
      "metadata": {
        "id": "SNvL_JGdyXQn"
      },
      "source": [
        "Check the accuracy of the finetuned model and tally with the previous validation accuracy"
      ]
    },
    {
      "cell_type": "code",
      "metadata": {
        "colab": {
          "base_uri": "https://localhost:8080/"
        },
        "id": "EgvHA9elwPKA",
        "outputId": "d3bfead6-14b4-4606-e090-985a0151354f"
      },
      "source": [
        "new_net.eval()\n",
        "\n",
        "correct_pred = 0\n",
        "with torch.no_grad():\n",
        "  for data in testloader:\n",
        "    inputs,labels = data\n",
        "    if use_gpu:\n",
        "        inputs, labels = inputs.cuda(),labels.cuda()\n",
        "    # Feedforward train data batch through model\n",
        "    output = new_net(inputs) \n",
        "    # Predicted class is the one with maximum probability\n",
        "    preds = torch.argmax(output,dim=1)\n",
        "    correct_pred += torch.sum(preds==labels)\n",
        "\n",
        "test_accuracy = correct_pred.item()/10000.0\n",
        "print('Testing accuracy = ',test_accuracy*100)"
      ],
      "execution_count": 70,
      "outputs": [
        {
          "output_type": "stream",
          "text": [
            "Testing accuracy =  62.239999999999995\n"
          ],
          "name": "stdout"
        }
      ]
    },
    {
      "cell_type": "markdown",
      "metadata": {
        "id": "4okToGjLyefn"
      },
      "source": [
        "print the sparsity of the model"
      ]
    },
    {
      "cell_type": "code",
      "metadata": {
        "id": "_9JHThRCd9KR",
        "colab": {
          "base_uri": "https://localhost:8080/"
        },
        "outputId": "6b607731-bd7a-45d4-eef1-9633b024726a"
      },
      "source": [
        "print(\n",
        "    \"Sparsity in conv1.weight: {:.2f}%\".format(\n",
        "        100. * float(torch.sum(new_net.conv1.weight == 0))\n",
        "        / float(new_net.conv1.weight.nelement())\n",
        "    )\n",
        ")\n",
        "print(\n",
        "    \"Sparsity in conv2.weight: {:.2f}%\".format(\n",
        "        100. * float(torch.sum(new_net.conv2.weight == 0))\n",
        "        / float(new_net.conv2.weight.nelement())\n",
        "    )\n",
        ")\n",
        "print(\n",
        "    \"Sparsity in fc1.weight: {:.2f}%\".format(\n",
        "        100. * float(torch.sum(new_net.fc1.weight == 0))\n",
        "        / float(new_net.fc1.weight.nelement())\n",
        "    )\n",
        ")\n",
        "print(\n",
        "    \"Sparsity in fc2.weight: {:.2f}%\".format(\n",
        "        100. * float(torch.sum(new_net.fc2.weight == 0))\n",
        "        / float(new_net.fc2.weight.nelement())\n",
        "    )\n",
        ")\n",
        "print(\n",
        "    \"Sparsity in fc3.weight: {:.2f}%\".format(\n",
        "        100. * float(torch.sum(new_net.fc3.weight == 0))\n",
        "        / float(new_net.fc3.weight.nelement())\n",
        "    )\n",
        ")\n",
        "print(\n",
        "    \"Global sparsity: {:.2f}%\".format(\n",
        "        100. * float(\n",
        "            torch.sum(new_net.conv1.weight == 0)\n",
        "            + torch.sum(new_net.conv2.weight == 0)\n",
        "            + torch.sum(new_net.fc1.weight == 0)\n",
        "            + torch.sum(new_net.fc2.weight == 0)\n",
        "            + torch.sum(new_net.fc3.weight == 0)\n",
        "        )\n",
        "        / float(\n",
        "            new_net.conv1.weight.nelement()\n",
        "            + new_net.conv2.weight.nelement()\n",
        "            + new_net.fc1.weight.nelement()\n",
        "            + new_net.fc2.weight.nelement()\n",
        "            + new_net.fc3.weight.nelement()\n",
        "        )\n",
        "    )\n",
        ")"
      ],
      "execution_count": 71,
      "outputs": [
        {
          "output_type": "stream",
          "text": [
            "Sparsity in conv1.weight: 33.95%\n",
            "Sparsity in conv2.weight: 51.50%\n",
            "Sparsity in fc1.weight: 63.29%\n",
            "Sparsity in fc2.weight: 49.29%\n",
            "Sparsity in fc3.weight: 30.00%\n",
            "Global sparsity: 60.00%\n"
          ],
          "name": "stdout"
        }
      ]
    },
    {
      "cell_type": "code",
      "metadata": {
        "colab": {
          "base_uri": "https://localhost:8080/"
        },
        "id": "9mvNUk8deGjh",
        "outputId": "895d051b-3095-4ab4-9fe0-6c438b1d49b5"
      },
      "source": [
        "new_net.fc1.weight"
      ],
      "execution_count": 72,
      "outputs": [
        {
          "output_type": "execute_result",
          "data": {
            "text/plain": [
              "Parameter containing:\n",
              "tensor([[ 0.1568,  0.2164,  0.0000,  ..., -0.1191, -0.1524, -0.1245],\n",
              "        [ 0.0000, -0.1916, -0.0063,  ...,  0.0000,  0.1524, -0.0000],\n",
              "        [ 0.2644,  0.2760,  0.3364,  ...,  0.0428, -0.1168, -0.0000],\n",
              "        ...,\n",
              "        [ 0.0000, -0.0000,  0.0000,  ..., -0.0000,  0.0000,  0.0000],\n",
              "        [ 0.0000,  0.0000,  0.0000,  ..., -0.0000,  0.0000,  0.0000],\n",
              "        [-0.1012,  0.0000,  0.0000,  ..., -0.0000, -0.0974, -0.1378]],\n",
              "       device='cuda:0', requires_grad=True)"
            ]
          },
          "metadata": {
            "tags": []
          },
          "execution_count": 72
        }
      ]
    },
    {
      "cell_type": "code",
      "metadata": {
        "id": "rV0uVcwyeKlV"
      },
      "source": [
        ""
      ],
      "execution_count": null,
      "outputs": []
    }
  ]
}